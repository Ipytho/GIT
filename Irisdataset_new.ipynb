{
 "cells": [
  {
   "cell_type": "code",
   "execution_count": 1,
   "metadata": {},
   "outputs": [
    {
     "data": {
      "text/html": [
       "<div>\n",
       "<style scoped>\n",
       "    .dataframe tbody tr th:only-of-type {\n",
       "        vertical-align: middle;\n",
       "    }\n",
       "\n",
       "    .dataframe tbody tr th {\n",
       "        vertical-align: top;\n",
       "    }\n",
       "\n",
       "    .dataframe thead th {\n",
       "        text-align: right;\n",
       "    }\n",
       "</style>\n",
       "<table border=\"1\" class=\"dataframe\">\n",
       "  <thead>\n",
       "    <tr style=\"text-align: right;\">\n",
       "      <th></th>\n",
       "      <th>sepal length (cm)</th>\n",
       "      <th>sepal width (cm)</th>\n",
       "      <th>petal length (cm)</th>\n",
       "      <th>petal width (cm)</th>\n",
       "      <th>species</th>\n",
       "    </tr>\n",
       "  </thead>\n",
       "  <tbody>\n",
       "    <tr>\n",
       "      <th>0</th>\n",
       "      <td>5.1</td>\n",
       "      <td>3.5</td>\n",
       "      <td>1.4</td>\n",
       "      <td>0.2</td>\n",
       "      <td>Iris-setosa</td>\n",
       "    </tr>\n",
       "    <tr>\n",
       "      <th>1</th>\n",
       "      <td>4.9</td>\n",
       "      <td>3.0</td>\n",
       "      <td>1.4</td>\n",
       "      <td>0.2</td>\n",
       "      <td>Iris-setosa</td>\n",
       "    </tr>\n",
       "    <tr>\n",
       "      <th>2</th>\n",
       "      <td>4.7</td>\n",
       "      <td>3.2</td>\n",
       "      <td>1.3</td>\n",
       "      <td>0.2</td>\n",
       "      <td>Iris-setosa</td>\n",
       "    </tr>\n",
       "    <tr>\n",
       "      <th>3</th>\n",
       "      <td>4.6</td>\n",
       "      <td>3.1</td>\n",
       "      <td>1.5</td>\n",
       "      <td>0.2</td>\n",
       "      <td>Iris-setosa</td>\n",
       "    </tr>\n",
       "    <tr>\n",
       "      <th>4</th>\n",
       "      <td>5.0</td>\n",
       "      <td>3.6</td>\n",
       "      <td>1.4</td>\n",
       "      <td>0.2</td>\n",
       "      <td>Iris-setosa</td>\n",
       "    </tr>\n",
       "  </tbody>\n",
       "</table>\n",
       "</div>"
      ],
      "text/plain": [
       "   sepal length (cm)  sepal width (cm)  petal length (cm)  petal width (cm)  \\\n",
       "0                5.1               3.5                1.4               0.2   \n",
       "1                4.9               3.0                1.4               0.2   \n",
       "2                4.7               3.2                1.3               0.2   \n",
       "3                4.6               3.1                1.5               0.2   \n",
       "4                5.0               3.6                1.4               0.2   \n",
       "\n",
       "       species  \n",
       "0  Iris-setosa  \n",
       "1  Iris-setosa  \n",
       "2  Iris-setosa  \n",
       "3  Iris-setosa  \n",
       "4  Iris-setosa  "
      ]
     },
     "execution_count": 1,
     "metadata": {},
     "output_type": "execute_result"
    }
   ],
   "source": [
    "#iris dataset\n",
    "import pandas as pd\n",
    "\n",
    "url=\"http://training.xcelvations.com/data/iris.csv\"\n",
    "df=pd.read_csv(url)\n",
    "df.head()"
   ]
  },
  {
   "cell_type": "code",
   "execution_count": 2,
   "metadata": {},
   "outputs": [
    {
     "data": {
      "text/plain": [
       "(150, 5)"
      ]
     },
     "execution_count": 2,
     "metadata": {},
     "output_type": "execute_result"
    }
   ],
   "source": [
    "df.shape"
   ]
  },
  {
   "cell_type": "code",
   "execution_count": 3,
   "metadata": {},
   "outputs": [
    {
     "name": "stdout",
     "output_type": "stream",
     "text": [
      "[[5.1 3.5 1.4]\n",
      " [4.9 3.  1.4]\n",
      " [4.7 3.2 1.3]\n",
      " [4.6 3.1 1.5]\n",
      " [5.  3.6 1.4]]\n",
      "['Iris-setosa' 'Iris-setosa' 'Iris-setosa' 'Iris-setosa' 'Iris-setosa']\n"
     ]
    }
   ],
   "source": [
    "#taking 2 variables x and y later which can be used for traing and splitting the data\n",
    "X = df.iloc[:,0:3].values\n",
    "y = df.iloc[:,4].values\n",
    "\n",
    "print(X[0:5])\n",
    "print(y[0:5])"
   ]
  },
  {
   "cell_type": "code",
   "execution_count": 4,
   "metadata": {},
   "outputs": [
    {
     "name": "stdout",
     "output_type": "stream",
     "text": [
      "(150, 3) (150,)\n"
     ]
    },
    {
     "data": {
      "text/plain": [
       "array(['Iris-setosa', 'Iris-setosa', 'Iris-setosa', 'Iris-setosa',\n",
       "       'Iris-setosa', 'Iris-setosa', 'Iris-setosa', 'Iris-setosa',\n",
       "       'Iris-setosa', 'Iris-setosa'], dtype=object)"
      ]
     },
     "execution_count": 4,
     "metadata": {},
     "output_type": "execute_result"
    }
   ],
   "source": [
    "print(X.shape,y.shape)\n",
    "y[0:10]"
   ]
  },
  {
   "cell_type": "code",
   "execution_count": 5,
   "metadata": {},
   "outputs": [
    {
     "name": "stdout",
     "output_type": "stream",
     "text": [
      "(150, 3) (150,)\n"
     ]
    }
   ],
   "source": [
    "from sklearn.model_selection import train_test_split\n",
    "from sklearn.preprocessing import LabelEncoder\n",
    "import numpy as np\n",
    "#target y is in string format, hence \"one hot encoding\"\n",
    "label_encoder = LabelEncoder()\n",
    "y_final = label_encoder.fit_transform(y)\n",
    "print(X.shape,y.shape)"
   ]
  },
  {
   "cell_type": "code",
   "execution_count": 6,
   "metadata": {},
   "outputs": [],
   "source": [
    "#split the dataset into train and test to feed the neural network\n",
    "X_train_all, X_test_all, Y_train_all, Y_test_all = train_test_split(X, y_final, test_size=0.2, random_state=10)"
   ]
  },
  {
   "cell_type": "code",
   "execution_count": 7,
   "metadata": {},
   "outputs": [],
   "source": [
    "#build model\n",
    "y_out=3\n",
    "import tensorflow as tf\n",
    "model = tf.keras.Sequential([\n",
    "    tf.keras.layers.Dense(16,activation='relu'),\n",
    "    tf.keras.layers.Dense(8, activation='relu'),\n",
    "    tf.keras.layers.Dense(3, activation='softmax')            \n",
    "])"
   ]
  },
  {
   "cell_type": "code",
   "execution_count": 8,
   "metadata": {},
   "outputs": [
    {
     "name": "stdout",
     "output_type": "stream",
     "text": [
      "Epoch 1/100\n",
      "4/4 [==============================] - 0s 43ms/step - loss: 1.0198 - accuracy: 0.7333 - val_loss: 1.0145 - val_accuracy: 0.7667\n",
      "Epoch 2/100\n",
      "4/4 [==============================] - 0s 5ms/step - loss: 0.9941 - accuracy: 0.8000 - val_loss: 1.0169 - val_accuracy: 0.5333\n",
      "Epoch 3/100\n",
      "4/4 [==============================] - 0s 5ms/step - loss: 0.9864 - accuracy: 0.6917 - val_loss: 1.0178 - val_accuracy: 0.5333\n",
      "Epoch 4/100\n",
      "4/4 [==============================] - 0s 5ms/step - loss: 0.9750 - accuracy: 0.6917 - val_loss: 0.9972 - val_accuracy: 0.5333\n",
      "Epoch 5/100\n",
      "4/4 [==============================] - 0s 5ms/step - loss: 0.9620 - accuracy: 0.7000 - val_loss: 0.9852 - val_accuracy: 0.5333\n",
      "Epoch 6/100\n",
      "4/4 [==============================] - 0s 5ms/step - loss: 0.9542 - accuracy: 0.7167 - val_loss: 0.9771 - val_accuracy: 0.5333\n",
      "Epoch 7/100\n",
      "4/4 [==============================] - 0s 5ms/step - loss: 0.9436 - accuracy: 0.7083 - val_loss: 0.9719 - val_accuracy: 0.5333\n",
      "Epoch 8/100\n",
      "4/4 [==============================] - 0s 5ms/step - loss: 0.9328 - accuracy: 0.7083 - val_loss: 0.9682 - val_accuracy: 0.5333\n",
      "Epoch 9/100\n",
      "4/4 [==============================] - 0s 4ms/step - loss: 0.9242 - accuracy: 0.7000 - val_loss: 0.9604 - val_accuracy: 0.5333\n",
      "Epoch 10/100\n",
      "4/4 [==============================] - 0s 4ms/step - loss: 0.9143 - accuracy: 0.7000 - val_loss: 0.9493 - val_accuracy: 0.5333\n",
      "Epoch 11/100\n",
      "4/4 [==============================] - 0s 5ms/step - loss: 0.9040 - accuracy: 0.7083 - val_loss: 0.9399 - val_accuracy: 0.5667\n",
      "Epoch 12/100\n",
      "4/4 [==============================] - 0s 5ms/step - loss: 0.8943 - accuracy: 0.7083 - val_loss: 0.9321 - val_accuracy: 0.5667\n",
      "Epoch 13/100\n",
      "4/4 [==============================] - 0s 4ms/step - loss: 0.8844 - accuracy: 0.7083 - val_loss: 0.9248 - val_accuracy: 0.5667\n",
      "Epoch 14/100\n",
      "4/4 [==============================] - 0s 5ms/step - loss: 0.8748 - accuracy: 0.7083 - val_loss: 0.9166 - val_accuracy: 0.5667\n",
      "Epoch 15/100\n",
      "4/4 [==============================] - 0s 5ms/step - loss: 0.8641 - accuracy: 0.7083 - val_loss: 0.9069 - val_accuracy: 0.5667\n",
      "Epoch 16/100\n",
      "4/4 [==============================] - 0s 5ms/step - loss: 0.8541 - accuracy: 0.7083 - val_loss: 0.8972 - val_accuracy: 0.5667\n",
      "Epoch 17/100\n",
      "4/4 [==============================] - 0s 5ms/step - loss: 0.8440 - accuracy: 0.7167 - val_loss: 0.8906 - val_accuracy: 0.5667\n",
      "Epoch 18/100\n",
      "4/4 [==============================] - 0s 5ms/step - loss: 0.8332 - accuracy: 0.7083 - val_loss: 0.8819 - val_accuracy: 0.5667\n",
      "Epoch 19/100\n",
      "4/4 [==============================] - 0s 5ms/step - loss: 0.8227 - accuracy: 0.7083 - val_loss: 0.8718 - val_accuracy: 0.5667\n",
      "Epoch 20/100\n",
      "4/4 [==============================] - 0s 5ms/step - loss: 0.8123 - accuracy: 0.7167 - val_loss: 0.8617 - val_accuracy: 0.5667\n",
      "Epoch 21/100\n",
      "4/4 [==============================] - 0s 5ms/step - loss: 0.8011 - accuracy: 0.7167 - val_loss: 0.8536 - val_accuracy: 0.5667\n",
      "Epoch 22/100\n",
      "4/4 [==============================] - 0s 4ms/step - loss: 0.7906 - accuracy: 0.7167 - val_loss: 0.8439 - val_accuracy: 0.5667\n",
      "Epoch 23/100\n",
      "4/4 [==============================] - 0s 5ms/step - loss: 0.7794 - accuracy: 0.7167 - val_loss: 0.8343 - val_accuracy: 0.5667\n",
      "Epoch 24/100\n",
      "4/4 [==============================] - 0s 5ms/step - loss: 0.7684 - accuracy: 0.7167 - val_loss: 0.8233 - val_accuracy: 0.5667\n",
      "Epoch 25/100\n",
      "4/4 [==============================] - 0s 4ms/step - loss: 0.7574 - accuracy: 0.7167 - val_loss: 0.8145 - val_accuracy: 0.5667\n",
      "Epoch 26/100\n",
      "4/4 [==============================] - 0s 5ms/step - loss: 0.7467 - accuracy: 0.7167 - val_loss: 0.8026 - val_accuracy: 0.5667\n",
      "Epoch 27/100\n",
      "4/4 [==============================] - 0s 5ms/step - loss: 0.7351 - accuracy: 0.7167 - val_loss: 0.7929 - val_accuracy: 0.5667\n",
      "Epoch 28/100\n",
      "4/4 [==============================] - 0s 4ms/step - loss: 0.7236 - accuracy: 0.7167 - val_loss: 0.7842 - val_accuracy: 0.5667\n",
      "Epoch 29/100\n",
      "4/4 [==============================] - 0s 5ms/step - loss: 0.7126 - accuracy: 0.7167 - val_loss: 0.7744 - val_accuracy: 0.5667\n",
      "Epoch 30/100\n",
      "4/4 [==============================] - 0s 5ms/step - loss: 0.7013 - accuracy: 0.7167 - val_loss: 0.7629 - val_accuracy: 0.5667\n",
      "Epoch 31/100\n",
      "4/4 [==============================] - 0s 4ms/step - loss: 0.6898 - accuracy: 0.7167 - val_loss: 0.7509 - val_accuracy: 0.5667\n",
      "Epoch 32/100\n",
      "4/4 [==============================] - 0s 5ms/step - loss: 0.6781 - accuracy: 0.7167 - val_loss: 0.7394 - val_accuracy: 0.5667\n",
      "Epoch 33/100\n",
      "4/4 [==============================] - 0s 4ms/step - loss: 0.6673 - accuracy: 0.7333 - val_loss: 0.7281 - val_accuracy: 0.5667\n",
      "Epoch 34/100\n",
      "4/4 [==============================] - 0s 5ms/step - loss: 0.6556 - accuracy: 0.7417 - val_loss: 0.7178 - val_accuracy: 0.5667\n",
      "Epoch 35/100\n",
      "4/4 [==============================] - 0s 5ms/step - loss: 0.6444 - accuracy: 0.7417 - val_loss: 0.7085 - val_accuracy: 0.5667\n",
      "Epoch 36/100\n",
      "4/4 [==============================] - 0s 5ms/step - loss: 0.6333 - accuracy: 0.7500 - val_loss: 0.6983 - val_accuracy: 0.5667\n",
      "Epoch 37/100\n",
      "4/4 [==============================] - 0s 5ms/step - loss: 0.6232 - accuracy: 0.7417 - val_loss: 0.6898 - val_accuracy: 0.5667\n",
      "Epoch 38/100\n",
      "4/4 [==============================] - 0s 4ms/step - loss: 0.6127 - accuracy: 0.7500 - val_loss: 0.6777 - val_accuracy: 0.5667\n",
      "Epoch 39/100\n",
      "4/4 [==============================] - 0s 4ms/step - loss: 0.6026 - accuracy: 0.7500 - val_loss: 0.6681 - val_accuracy: 0.5667\n",
      "Epoch 40/100\n",
      "4/4 [==============================] - 0s 5ms/step - loss: 0.5925 - accuracy: 0.7750 - val_loss: 0.6579 - val_accuracy: 0.5667\n",
      "Epoch 41/100\n",
      "4/4 [==============================] - 0s 5ms/step - loss: 0.5833 - accuracy: 0.7833 - val_loss: 0.6478 - val_accuracy: 0.5667\n",
      "Epoch 42/100\n",
      "4/4 [==============================] - 0s 5ms/step - loss: 0.5731 - accuracy: 0.7833 - val_loss: 0.6392 - val_accuracy: 0.5667\n",
      "Epoch 43/100\n",
      "4/4 [==============================] - 0s 5ms/step - loss: 0.5636 - accuracy: 0.7833 - val_loss: 0.6318 - val_accuracy: 0.5667\n",
      "Epoch 44/100\n",
      "4/4 [==============================] - 0s 4ms/step - loss: 0.5549 - accuracy: 0.7750 - val_loss: 0.6223 - val_accuracy: 0.5667\n",
      "Epoch 45/100\n",
      "4/4 [==============================] - 0s 5ms/step - loss: 0.5461 - accuracy: 0.7833 - val_loss: 0.6150 - val_accuracy: 0.5667\n",
      "Epoch 46/100\n",
      "4/4 [==============================] - 0s 4ms/step - loss: 0.5376 - accuracy: 0.7833 - val_loss: 0.6032 - val_accuracy: 0.5667\n",
      "Epoch 47/100\n",
      "4/4 [==============================] - 0s 5ms/step - loss: 0.5292 - accuracy: 0.7917 - val_loss: 0.5963 - val_accuracy: 0.5667\n",
      "Epoch 48/100\n",
      "4/4 [==============================] - 0s 4ms/step - loss: 0.5211 - accuracy: 0.8000 - val_loss: 0.5870 - val_accuracy: 0.5667\n",
      "Epoch 49/100\n",
      "4/4 [==============================] - 0s 4ms/step - loss: 0.5136 - accuracy: 0.8167 - val_loss: 0.5776 - val_accuracy: 0.6000\n",
      "Epoch 50/100\n",
      "4/4 [==============================] - 0s 5ms/step - loss: 0.5056 - accuracy: 0.8417 - val_loss: 0.5714 - val_accuracy: 0.6000\n",
      "Epoch 51/100\n",
      "4/4 [==============================] - 0s 4ms/step - loss: 0.4984 - accuracy: 0.8417 - val_loss: 0.5648 - val_accuracy: 0.6000\n",
      "Epoch 52/100\n",
      "4/4 [==============================] - 0s 4ms/step - loss: 0.4912 - accuracy: 0.8417 - val_loss: 0.5600 - val_accuracy: 0.5667\n",
      "Epoch 53/100\n",
      "4/4 [==============================] - 0s 5ms/step - loss: 0.4849 - accuracy: 0.8167 - val_loss: 0.5549 - val_accuracy: 0.5667\n",
      "Epoch 54/100\n",
      "4/4 [==============================] - 0s 4ms/step - loss: 0.4781 - accuracy: 0.8333 - val_loss: 0.5460 - val_accuracy: 0.6000\n",
      "Epoch 55/100\n",
      "4/4 [==============================] - 0s 4ms/step - loss: 0.4722 - accuracy: 0.8500 - val_loss: 0.5364 - val_accuracy: 0.6667\n",
      "Epoch 56/100\n",
      "4/4 [==============================] - 0s 4ms/step - loss: 0.4653 - accuracy: 0.8750 - val_loss: 0.5312 - val_accuracy: 0.6667\n",
      "Epoch 57/100\n",
      "4/4 [==============================] - 0s 4ms/step - loss: 0.4599 - accuracy: 0.8667 - val_loss: 0.5282 - val_accuracy: 0.6667\n",
      "Epoch 58/100\n",
      "4/4 [==============================] - 0s 4ms/step - loss: 0.4537 - accuracy: 0.8500 - val_loss: 0.5221 - val_accuracy: 0.6667\n",
      "Epoch 59/100\n",
      "4/4 [==============================] - 0s 4ms/step - loss: 0.4480 - accuracy: 0.8583 - val_loss: 0.5150 - val_accuracy: 0.6667\n",
      "Epoch 60/100\n",
      "4/4 [==============================] - 0s 4ms/step - loss: 0.4424 - accuracy: 0.8750 - val_loss: 0.5073 - val_accuracy: 0.7000\n",
      "Epoch 61/100\n",
      "4/4 [==============================] - 0s 5ms/step - loss: 0.4375 - accuracy: 0.8833 - val_loss: 0.4987 - val_accuracy: 0.7333\n",
      "Epoch 62/100\n",
      "4/4 [==============================] - 0s 4ms/step - loss: 0.4325 - accuracy: 0.9167 - val_loss: 0.4933 - val_accuracy: 0.7333\n",
      "Epoch 63/100\n",
      "4/4 [==============================] - 0s 4ms/step - loss: 0.4274 - accuracy: 0.9167 - val_loss: 0.4887 - val_accuracy: 0.7333\n",
      "Epoch 64/100\n",
      "4/4 [==============================] - 0s 5ms/step - loss: 0.4225 - accuracy: 0.9167 - val_loss: 0.4855 - val_accuracy: 0.7333\n",
      "Epoch 65/100\n",
      "4/4 [==============================] - 0s 5ms/step - loss: 0.4181 - accuracy: 0.9000 - val_loss: 0.4860 - val_accuracy: 0.7333\n",
      "Epoch 66/100\n",
      "4/4 [==============================] - 0s 5ms/step - loss: 0.4134 - accuracy: 0.8833 - val_loss: 0.4821 - val_accuracy: 0.7333\n",
      "Epoch 67/100\n",
      "4/4 [==============================] - 0s 4ms/step - loss: 0.4087 - accuracy: 0.8917 - val_loss: 0.4755 - val_accuracy: 0.7333\n",
      "Epoch 68/100\n",
      "4/4 [==============================] - 0s 5ms/step - loss: 0.4051 - accuracy: 0.9167 - val_loss: 0.4645 - val_accuracy: 0.8333\n",
      "Epoch 69/100\n",
      "4/4 [==============================] - 0s 4ms/step - loss: 0.4008 - accuracy: 0.9333 - val_loss: 0.4583 - val_accuracy: 0.8333\n",
      "Epoch 70/100\n",
      "4/4 [==============================] - 0s 4ms/step - loss: 0.3961 - accuracy: 0.9250 - val_loss: 0.4580 - val_accuracy: 0.8333\n",
      "Epoch 71/100\n",
      "4/4 [==============================] - 0s 5ms/step - loss: 0.3919 - accuracy: 0.9250 - val_loss: 0.4565 - val_accuracy: 0.8333\n",
      "Epoch 72/100\n",
      "4/4 [==============================] - 0s 5ms/step - loss: 0.3884 - accuracy: 0.9167 - val_loss: 0.4551 - val_accuracy: 0.7667\n",
      "Epoch 73/100\n",
      "4/4 [==============================] - 0s 4ms/step - loss: 0.3843 - accuracy: 0.9167 - val_loss: 0.4472 - val_accuracy: 0.8333\n",
      "Epoch 74/100\n",
      "4/4 [==============================] - 0s 4ms/step - loss: 0.3811 - accuracy: 0.9250 - val_loss: 0.4445 - val_accuracy: 0.8333\n",
      "Epoch 75/100\n",
      "4/4 [==============================] - 0s 4ms/step - loss: 0.3766 - accuracy: 0.9417 - val_loss: 0.4356 - val_accuracy: 0.8333\n",
      "Epoch 76/100\n",
      "4/4 [==============================] - 0s 5ms/step - loss: 0.3732 - accuracy: 0.9417 - val_loss: 0.4322 - val_accuracy: 0.8667\n",
      "Epoch 77/100\n",
      "4/4 [==============================] - 0s 4ms/step - loss: 0.3697 - accuracy: 0.9417 - val_loss: 0.4269 - val_accuracy: 0.8667\n",
      "Epoch 78/100\n",
      "4/4 [==============================] - 0s 5ms/step - loss: 0.3663 - accuracy: 0.9417 - val_loss: 0.4242 - val_accuracy: 0.8667\n",
      "Epoch 79/100\n",
      "4/4 [==============================] - 0s 5ms/step - loss: 0.3630 - accuracy: 0.9417 - val_loss: 0.4233 - val_accuracy: 0.8667\n",
      "Epoch 80/100\n",
      "4/4 [==============================] - 0s 4ms/step - loss: 0.3593 - accuracy: 0.9417 - val_loss: 0.4224 - val_accuracy: 0.8333\n",
      "Epoch 81/100\n",
      "4/4 [==============================] - 0s 5ms/step - loss: 0.3559 - accuracy: 0.9417 - val_loss: 0.4198 - val_accuracy: 0.8333\n",
      "Epoch 82/100\n",
      "4/4 [==============================] - 0s 5ms/step - loss: 0.3532 - accuracy: 0.9417 - val_loss: 0.4192 - val_accuracy: 0.8333\n",
      "Epoch 83/100\n",
      "4/4 [==============================] - 0s 5ms/step - loss: 0.3504 - accuracy: 0.9417 - val_loss: 0.4108 - val_accuracy: 0.8667\n",
      "Epoch 84/100\n",
      "4/4 [==============================] - 0s 4ms/step - loss: 0.3464 - accuracy: 0.9417 - val_loss: 0.4094 - val_accuracy: 0.8667\n",
      "Epoch 85/100\n",
      "4/4 [==============================] - 0s 5ms/step - loss: 0.3435 - accuracy: 0.9417 - val_loss: 0.4097 - val_accuracy: 0.8667\n",
      "Epoch 86/100\n",
      "4/4 [==============================] - 0s 5ms/step - loss: 0.3402 - accuracy: 0.9417 - val_loss: 0.4065 - val_accuracy: 0.8667\n",
      "Epoch 87/100\n",
      "4/4 [==============================] - 0s 4ms/step - loss: 0.3376 - accuracy: 0.9417 - val_loss: 0.4037 - val_accuracy: 0.8667\n",
      "Epoch 88/100\n",
      "4/4 [==============================] - 0s 5ms/step - loss: 0.3344 - accuracy: 0.9417 - val_loss: 0.3987 - val_accuracy: 0.8667\n",
      "Epoch 89/100\n",
      "4/4 [==============================] - 0s 4ms/step - loss: 0.3314 - accuracy: 0.9417 - val_loss: 0.3939 - val_accuracy: 0.8667\n",
      "Epoch 90/100\n",
      "4/4 [==============================] - 0s 4ms/step - loss: 0.3284 - accuracy: 0.9417 - val_loss: 0.3898 - val_accuracy: 0.8667\n",
      "Epoch 91/100\n",
      "4/4 [==============================] - 0s 4ms/step - loss: 0.3257 - accuracy: 0.9333 - val_loss: 0.3879 - val_accuracy: 0.8667\n",
      "Epoch 92/100\n",
      "4/4 [==============================] - 0s 5ms/step - loss: 0.3228 - accuracy: 0.9417 - val_loss: 0.3861 - val_accuracy: 0.8667\n",
      "Epoch 93/100\n",
      "4/4 [==============================] - 0s 5ms/step - loss: 0.3200 - accuracy: 0.9333 - val_loss: 0.3818 - val_accuracy: 0.8667\n",
      "Epoch 94/100\n",
      "4/4 [==============================] - 0s 4ms/step - loss: 0.3171 - accuracy: 0.9333 - val_loss: 0.3803 - val_accuracy: 0.8667\n",
      "Epoch 95/100\n",
      "4/4 [==============================] - 0s 4ms/step - loss: 0.3148 - accuracy: 0.9333 - val_loss: 0.3764 - val_accuracy: 0.8667\n",
      "Epoch 96/100\n",
      "4/4 [==============================] - 0s 5ms/step - loss: 0.3119 - accuracy: 0.9333 - val_loss: 0.3759 - val_accuracy: 0.8667\n",
      "Epoch 97/100\n",
      "4/4 [==============================] - 0s 4ms/step - loss: 0.3092 - accuracy: 0.9333 - val_loss: 0.3773 - val_accuracy: 0.8667\n",
      "Epoch 98/100\n",
      "4/4 [==============================] - 0s 4ms/step - loss: 0.3066 - accuracy: 0.9417 - val_loss: 0.3803 - val_accuracy: 0.8667\n",
      "Epoch 99/100\n",
      "4/4 [==============================] - 0s 5ms/step - loss: 0.3046 - accuracy: 0.9417 - val_loss: 0.3758 - val_accuracy: 0.8667\n",
      "Epoch 100/100\n",
      "4/4 [==============================] - 0s 5ms/step - loss: 0.3021 - accuracy: 0.9417 - val_loss: 0.3687 - val_accuracy: 0.8667\n"
     ]
    }
   ],
   "source": [
    "model.compile(optimizer='adam',loss=\"sparse_categorical_crossentropy\",metrics=['accuracy'])\n",
    "history=model.fit(X_train_all,Y_train_all,epochs=100,validation_data=(X_test_all,Y_test_all))"
   ]
  },
  {
   "cell_type": "code",
   "execution_count": 9,
   "metadata": {},
   "outputs": [
    {
     "data": {
      "image/png": "[encoded data removed]",
      "text/plain": [
       "<Figure size 432x288 with 1 Axes>"
      ]
     },
     "metadata": {
      "needs_background": "light"
     },
     "output_type": "display_data"
    },
    {
     "data": {
      "image/png": "[encoded data removed]",
      "text/plain": [
       "<Figure size 432x288 with 1 Axes>"
      ]
     },
     "metadata": {
      "needs_background": "light"
     },
     "output_type": "display_data"
    }
   ],
   "source": [
    "import matplotlib.pyplot as plt\n",
    "\n",
    "\n",
    "acc=history.history['accuracy']\n",
    "val_acc=history.history['val_accuracy']\n",
    "\n",
    "loss=history.history['loss']\n",
    "val_loss=history.history['val_loss']\n",
    "\n",
    "epochs_range=range(1,len(acc)+1)\n",
    "\n",
    "plt.plot(epochs_range, acc, 'bo', label='Training Accuracy')\n",
    "plt.plot(epochs_range, val_acc, 'b' ,label='Validation Accuracy')\n",
    "plt.title('Training and Validation Accuracy')\n",
    "plt.legend()\n",
    "\n",
    "plt.figure()\n",
    "\n",
    "plt.plot(epochs_range, loss,'bo', label='Training Loss')\n",
    "plt.plot(epochs_range, val_loss,'b', label='Validation Loss')\n",
    "plt.legend(loc='upper right')\n",
    "plt.title('Training and Validation Loss')\n",
    "plt.show()"
   ]
  }
 ],
 "metadata": {
  "kernelspec": {
   "display_name": "Python 3",
   "language": "python",
   "name": "python3"
  },
  "language_info": {
   "codemirror_mode": {
    "name": "ipython",
    "version": 3
   },
   "file_extension": ".py",
   "mimetype": "text/x-python",
   "name": "python",
   "nbconvert_exporter": "python",
   "pygments_lexer": "ipython3",
   "version": "3.8.3"
  }
 },
 "nbformat": 4,
 "nbformat_minor": 4
}
