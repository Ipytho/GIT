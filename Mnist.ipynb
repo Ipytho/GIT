{
 "cells": [
  {
   "cell_type": "code",
   "execution_count": 1,
   "metadata": {},
   "outputs": [],
   "source": [
    "#mnist dataset\n",
    "import tensorflow as tf\n",
    "(x_train, y_train), (x_test, y_test) = tf.keras.datasets.mnist.load_data()"
   ]
  },
  {
   "cell_type": "code",
   "execution_count": 2,
   "metadata": {},
   "outputs": [
    {
     "name": "stdout",
     "output_type": "stream",
     "text": [
      "8\n"
     ]
    },
    {
     "data": {
      "text/plain": [
       "<matplotlib.image.AxesImage at 0x148cd9afdc0>"
      ]
     },
     "execution_count": 2,
     "metadata": {},
     "output_type": "execute_result"
    },
    {
     "data": {
      "image/png": "[encoded data removed]",
      "text/plain": [
       "<Figure size 432x288 with 1 Axes>"
      ]
     },
     "metadata": {
      "needs_background": "light"
     },
     "output_type": "display_data"
    }
   ],
   "source": [
    "import matplotlib.pyplot as plt \n",
    "image_index = 7777 \n",
    "print(y_train[image_index]) # The label is 8\n",
    "plt.imshow(x_train[image_index], cmap='Greys')"
   ]
  },
  {
   "cell_type": "code",
   "execution_count": 3,
   "metadata": {},
   "outputs": [],
   "source": [
    "# Reshaping the array to 4-dims so that it can work with the Keras API\n",
    "x_train = x_train.reshape(x_train.shape[0], 28, 28, 1)\n",
    "x_test = x_test.reshape(x_test.shape[0], 28, 28, 1)\n",
    "input_shape = (28, 28, 1)\n",
    "# Making sure that the values are float so that we can get decimal points after division\n",
    "x_train = x_train.astype('float32')\n",
    "x_test = x_test.astype('float32')\n",
    "# Normalizing the RGB codes by dividing it to the max RGB value.\n",
    "x_train /= 255\n",
    "x_test /= 255"
   ]
  },
  {
   "cell_type": "code",
   "execution_count": 4,
   "metadata": {},
   "outputs": [],
   "source": [
    "model = tf.keras.Sequential([\n",
    "    tf.keras.layers.Conv2D(32, (3,3), padding='same', activation=tf.nn.relu,\n",
    "                           input_shape=(28, 28, 1)),\n",
    "    tf.keras.layers.MaxPooling2D((2, 2), strides=2),\n",
    "    tf.keras.layers.Conv2D(64, (3,3), padding='same', activation=tf.nn.relu),\n",
    "    tf.keras.layers.MaxPooling2D((2, 2), strides=2),\n",
    "    tf.keras.layers.Flatten(),\n",
    "    tf.keras.layers.Dense(128, activation=tf.nn.relu),\n",
    "    tf.keras.layers.Dense(10, activation=tf.nn.softmax)\n",
    "])"
   ]
  },
  {
   "cell_type": "code",
   "execution_count": 5,
   "metadata": {},
   "outputs": [
    {
     "name": "stdout",
     "output_type": "stream",
     "text": [
      "Epoch 1/10\n",
      "50/50 [==============================] - 17s 343ms/step - loss: 0.6805 - accuracy: 0.8292 - val_loss: 0.2061 - val_accuracy: 0.9399\n",
      "Epoch 2/10\n",
      "50/50 [==============================] - 17s 332ms/step - loss: 0.1546 - accuracy: 0.9537 - val_loss: 0.1024 - val_accuracy: 0.9694\n",
      "Epoch 3/10\n",
      "50/50 [==============================] - 16s 327ms/step - loss: 0.0898 - accuracy: 0.9733 - val_loss: 0.0666 - val_accuracy: 0.9789\n",
      "Epoch 4/10\n",
      "50/50 [==============================] - 17s 332ms/step - loss: 0.0649 - accuracy: 0.9808 - val_loss: 0.0523 - val_accuracy: 0.9829\n",
      "Epoch 5/10\n",
      "50/50 [==============================] - 17s 336ms/step - loss: 0.0536 - accuracy: 0.9841 - val_loss: 0.0458 - val_accuracy: 0.9845\n",
      "Epoch 6/10\n",
      "50/50 [==============================] - 16s 326ms/step - loss: 0.0460 - accuracy: 0.9861 - val_loss: 0.0378 - val_accuracy: 0.9871\n",
      "Epoch 7/10\n",
      "50/50 [==============================] - 16s 329ms/step - loss: 0.0393 - accuracy: 0.9887 - val_loss: 0.0385 - val_accuracy: 0.9865\n",
      "Epoch 8/10\n",
      "50/50 [==============================] - 16s 326ms/step - loss: 0.0352 - accuracy: 0.9894 - val_loss: 0.0373 - val_accuracy: 0.9874\n",
      "Epoch 9/10\n",
      "50/50 [==============================] - 16s 326ms/step - loss: 0.0318 - accuracy: 0.9907 - val_loss: 0.0376 - val_accuracy: 0.9866\n",
      "Epoch 10/10\n",
      "50/50 [==============================] - 16s 325ms/step - loss: 0.0288 - accuracy: 0.9914 - val_loss: 0.0332 - val_accuracy: 0.9886\n"
     ]
    }
   ],
   "source": [
    "model.compile(optimizer='adam', \n",
    "              loss='sparse_categorical_crossentropy', \n",
    "              metrics=['accuracy'])\n",
    "history=model.fit(x_train,y_train, epochs=10,steps_per_epoch=50,validation_data=(x_test,y_test))"
   ]
  },
  {
   "cell_type": "code",
   "execution_count": 6,
   "metadata": {},
   "outputs": [
    {
     "data": {
      "image/png": "[encoded data removed]",
      "text/plain": [
       "<Figure size 432x288 with 1 Axes>"
      ]
     },
     "metadata": {
      "needs_background": "light"
     },
     "output_type": "display_data"
    },
    {
     "data": {
      "image/png": "[encoded data removed]",
      "text/plain": [
       "<Figure size 432x288 with 1 Axes>"
      ]
     },
     "metadata": {
      "needs_background": "light"
     },
     "output_type": "display_data"
    }
   ],
   "source": [
    "import matplotlib.pyplot as plt\n",
    "\n",
    "\n",
    "acc=history.history['accuracy']\n",
    "val_acc=history.history['val_accuracy']\n",
    "\n",
    "loss=history.history['loss']\n",
    "val_loss=history.history['val_loss']\n",
    "\n",
    "epochs_range=range(1,len(acc)+1)\n",
    "\n",
    "plt.plot(epochs_range, acc, 'bo', label='Training Accuracy')\n",
    "plt.plot(epochs_range, val_acc, 'b' ,label='Validation Accuracy')\n",
    "plt.title('Training and Validation Accuracy')\n",
    "plt.legend()\n",
    "\n",
    "plt.figure()\n",
    "\n",
    "plt.plot(epochs_range, loss,'bo', label='Training Loss')\n",
    "plt.plot(epochs_range, val_loss,'b', label='Validation Loss')\n",
    "plt.legend(loc='upper right')\n",
    "plt.title('Training and Validation Loss')\n",
    "plt.show()"
   ]
  }
 ],
 "metadata": {
  "kernelspec": {
   "display_name": "Python 3",
   "language": "python",
   "name": "python3"
  },
  "language_info": {
   "codemirror_mode": {
    "name": "ipython",
    "version": 3
   },
   "file_extension": ".py",
   "mimetype": "text/x-python",
   "name": "python",
   "nbconvert_exporter": "python",
   "pygments_lexer": "ipython3",
   "version": "3.8.3"
  }
 },
 "nbformat": 4,
 "nbformat_minor": 4
}
